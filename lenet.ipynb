{
  "nbformat": 4,
  "nbformat_minor": 0,
  "metadata": {
    "colab": {
      "provenance": []
    },
    "kernelspec": {
      "name": "python3",
      "display_name": "Python 3"
    },
    "language_info": {
      "name": "python"
    }
  },
  "cells": [
    {
      "cell_type": "markdown",
      "source": [
        "# Train Model"
      ],
      "metadata": {
        "id": "e4iER9RJE9U-"
      }
    },
    {
      "cell_type": "code",
      "source": [
        "import torch\n",
        "import torch.nn as nn\n",
        "import torch.optim as optim\n",
        "import torchvision\n",
        "import torchvision.transforms as transforms\n",
        "\n",
        "# Define LeNet-5 model\n",
        "class LeNet5(nn.Module):\n",
        "    def __init__(self):\n",
        "        super(LeNet5, self).__init__()\n",
        "        self.conv1 = nn.Conv2d(1, 6, kernel_size=5)\n",
        "        self.pool = nn.MaxPool2d(2, stride=2)\n",
        "        self.conv2 = nn.Conv2d(6, 16, kernel_size=5)\n",
        "        self.fc1 = nn.Linear(16 * 4 * 4, 120)\n",
        "        self.fc2 = nn.Linear(120, 84)\n",
        "        self.fc3 = nn.Linear(84, 10)\n",
        "\n",
        "    def forward(self, x):\n",
        "        x = self.pool(torch.relu(self.conv1(x)))  # 6x24x24 → 6x12x12\n",
        "        x = self.pool(torch.relu(self.conv2(x)))  # 16x8x8 → 16x4x4\n",
        "        x = x.view(-1, 16 * 4 * 4)  # Flatten\n",
        "        x = torch.relu(self.fc1(x))\n",
        "        x = torch.relu(self.fc2(x))\n",
        "        x = self.fc3(x)\n",
        "        return x\n",
        "\n",
        "# Load MNIST dataset\n",
        "transform = transforms.Compose([transforms.ToTensor()])\n",
        "trainset = torchvision.datasets.MNIST(root='./data', train=True, download=True, transform=transform)\n",
        "testset = torchvision.datasets.MNIST(root='./data', train=False, download=True, transform=transform)\n",
        "\n",
        "\n",
        "# Split training set into training and validation (90% train, 10% val)\n",
        "train_size = int(0.8 * len(trainset))\n",
        "val_size = len(trainset) - train_size\n",
        "trainset, valset = torch.utils.data.random_split(trainset, [train_size, val_size])\n",
        "\n",
        "trainloader = torch.utils.data.DataLoader(trainset, batch_size=64, shuffle=True)\n",
        "valloader = torch.utils.data.DataLoader(valset, batch_size=64, shuffle=False)\n",
        "testloader = torch.utils.data.DataLoader(testset, batch_size=64, shuffle=False)\n",
        "\n",
        "# Initialize model, loss function, and optimizer\n",
        "device = torch.device(\"cuda\" if torch.cuda.is_available() else \"cpu\")\n",
        "model = LeNet5().to(device)\n",
        "criterion = nn.CrossEntropyLoss()\n",
        "optimizer = optim.Adam(model.parameters(), lr=0.001)\n",
        "\n",
        "# Function to evaluate accuracy\n",
        "def evaluate(model, dataloader, device):\n",
        "    model.eval()\n",
        "    correct, total = 0, 0\n",
        "    with torch.no_grad():\n",
        "        for images, labels in dataloader:\n",
        "            images, labels = images.to(device), labels.to(device)\n",
        "            outputs = model(images)\n",
        "            _, predicted = torch.max(outputs, 1)\n",
        "            total += labels.size(0)\n",
        "            correct += (predicted == labels).sum().item()\n",
        "    return correct / total\n",
        "\n",
        "# Train the model\n",
        "num_epochs = 5\n",
        "for epoch in range(num_epochs):\n",
        "    model.train()\n",
        "    running_loss = 0.0\n",
        "    for images, labels in trainloader:\n",
        "        images, labels = images.to(device), labels.to(device)\n",
        "        optimizer.zero_grad()\n",
        "        outputs = model(images)\n",
        "        loss = criterion(outputs, labels)\n",
        "        loss.backward()\n",
        "        optimizer.step()\n",
        "        running_loss += loss.item()\n",
        "\n",
        "    train_acc = evaluate(model, trainloader, device)\n",
        "    val_acc = evaluate(model, valloader, device)\n",
        "\n",
        "    print(f\"Epoch {epoch+1}/{num_epochs}, Loss: {running_loss/len(trainloader):.4f}, Train Acc: {train_acc*100:.2f}%, Val Acc: {val_acc*100:.2f}%\")\n",
        "\n",
        "# Evaluate on test set\n",
        "test_acc = evaluate(model, testloader, device)\n",
        "print(f\"Test Accuracy: {test_acc*100:.2f}%\")\n",
        "\n",
        "# Save the model weights\n",
        "torch.save(model.state_dict(), \"lenet5.pth\")\n",
        "print(\"Model saved!\")"
      ],
      "metadata": {
        "colab": {
          "base_uri": "https://localhost:8080/"
        },
        "id": "27XU4rLdY02P",
        "outputId": "e91fd8e3-009b-42d4-d0d9-8913a22c314c"
      },
      "execution_count": null,
      "outputs": [
        {
          "output_type": "stream",
          "name": "stdout",
          "text": [
            "Epoch 1/5, Loss: 0.3513, Train Acc: 96.88%, Val Acc: 96.72%\n",
            "Epoch 2/5, Loss: 0.0964, Train Acc: 98.03%, Val Acc: 97.65%\n",
            "Epoch 3/5, Loss: 0.0679, Train Acc: 98.36%, Val Acc: 98.02%\n",
            "Epoch 4/5, Loss: 0.0530, Train Acc: 98.75%, Val Acc: 98.32%\n",
            "Epoch 5/5, Loss: 0.0453, Train Acc: 98.77%, Val Acc: 98.49%\n",
            "Test Accuracy: 98.60%\n",
            "Model saved!\n"
          ]
        }
      ]
    },
    {
      "cell_type": "markdown",
      "source": [
        "# Extract Weights"
      ],
      "metadata": {
        "id": "bC_HCArmE304"
      }
    },
    {
      "cell_type": "code",
      "source": [
        "import torch\n",
        "import numpy as np\n",
        "\n",
        "model = LeNet5()\n",
        "state_dict = torch.load('lenet5.pth', map_location=torch.device('cpu'), weights_only=True)  # Set weights_only=True\n",
        "model.load_state_dict(state_dict)  # Load the state dictionary\n",
        "model.eval()\n",
        "\n",
        "# Extract the weights\n",
        "conv1_weights = model.conv1.weight.data.numpy()  # Assuming 'conv1' is the first convolutional layer\n",
        "conv1_biases = model.conv1.bias.data.numpy()\n",
        "conv2_weights = model.conv2.weight.data.numpy()\n",
        "conv2_biases = model.conv2.bias.data.numpy()\n",
        "fc1_weights = model.fc1.weight.data.numpy()\n",
        "fc1_biases = model.fc1.bias.data.numpy()\n",
        "fc2_weights = model.fc2.weight.data.numpy()\n",
        "fc2_biases = model.fc2.bias.data.numpy()\n",
        "fc3_weights = model.fc3.weight.data.numpy()\n",
        "fc3_biases = model.fc3.bias.data.numpy()\n",
        "\n",
        "# Save weights as NumPy arrays\n",
        "np.savez('lenet_weights.npz',\n",
        "         conv1_weights=conv1_weights, conv1_biases=conv1_biases,\n",
        "         conv2_weights=conv2_weights, conv2_biases=conv2_biases,\n",
        "         fc1_weights=fc1_weights, fc1_biases=fc1_biases,\n",
        "         fc2_weights=fc2_weights, fc2_biases=fc2_biases,\n",
        "         fc3_weights=fc3_weights, fc3_biases=fc3_biases)"
      ],
      "metadata": {
        "id": "3khpr2SUFiL8"
      },
      "execution_count": null,
      "outputs": []
    },
    {
      "cell_type": "code",
      "source": [
        "import numpy as np\n",
        "\n",
        "# Load the weights\n",
        "weights = np.load('lenet_weights.npz')\n",
        "\n",
        "# Create a C header file to store the weights\n",
        "with open('lenet_weights.h', 'w') as f:\n",
        "    # Function to convert NumPy arrays to C arrays\n",
        "    def array_to_c(array, name):\n",
        "        def format_array(arr, indent=0):\n",
        "            if arr.ndim == 1:  # Base case: 1D array\n",
        "                return \"{\" + \", \".join(f\"{x:.8f}\" for x in arr) + \"}\"\n",
        "            else:\n",
        "                # Recursive case: Multi-dimensional array\n",
        "                lines = [format_array(sub_arr, indent + 4) for sub_arr in arr]\n",
        "                return \"{\\n\" + \",\\n\".join(\" \" * (indent + 4) + line for line in lines) + \"\\n\" + \" \" * indent + \"}\"\n",
        "\n",
        "        shape_str = str(array.shape).replace('(', '[').replace(')', ']')\n",
        "        shape_str = shape_str.replace(', ', '][')  # Replace commas with ][ for C array declaration\n",
        "        # Remove trailing comma for 1D arrays\n",
        "        if array.ndim == 1:\n",
        "            shape_str = shape_str[:-2] + \"]\"  # Remove the trailing \"],\" and add \"]\"\n",
        "\n",
        "\n",
        "        f.write(f\"float {name}{shape_str} = \")\n",
        "        f.write(format_array(array) + \";\\n\\n\")\n",
        "\n",
        "    # Convert and write the weights to the header file\n",
        "    array_to_c(weights['conv1_weights'], 'conv1_weights')\n",
        "    array_to_c(weights['conv1_biases'], 'conv1_biases')\n",
        "    array_to_c(weights['conv2_weights'], 'conv2_weights')\n",
        "    array_to_c(weights['conv2_biases'], 'conv2_biases')\n",
        "    array_to_c(weights['fc1_weights'], 'fc1_weights')\n",
        "    array_to_c(weights['fc1_biases'], 'fc1_biases')\n",
        "    array_to_c(weights['fc2_weights'], 'fc2_weights')\n",
        "    array_to_c(weights['fc2_biases'], 'fc2_biases')\n",
        "    array_to_c(weights['fc3_weights'], 'fc3_weights')\n",
        "    array_to_c(weights['fc3_biases'], 'fc3_biases')\n",
        "\n",
        "print(\"Weights saved to lenet_weights.h\")"
      ],
      "metadata": {
        "id": "tgV5G5kTJgLy",
        "colab": {
          "base_uri": "https://localhost:8080/"
        },
        "outputId": "25c801c4-7479-4799-c972-0c152082de63"
      },
      "execution_count": null,
      "outputs": [
        {
          "output_type": "stream",
          "name": "stdout",
          "text": [
            "Weights saved to lenet_weights.h\n"
          ]
        }
      ]
    },
    {
      "cell_type": "markdown",
      "source": [
        "# Export Image"
      ],
      "metadata": {
        "id": "MK-1m8Ed9iiI"
      }
    },
    {
      "cell_type": "code",
      "source": [
        "import matplotlib.pyplot as plt\n",
        "import torchvision\n",
        "import torchvision.transforms as transforms\n",
        "\n",
        "# Load the MNIST testing dataset\n",
        "transform = transforms.Compose([transforms.ToTensor()])\n",
        "testset = torchvision.datasets.MNIST(root='./data', train=False, download=True, transform=transform)\n",
        "\n",
        "# Display the first 20 images\n",
        "fig, axes = plt.subplots(4, 5, figsize=(10, 8))  # Create a 4x5 grid of subplots\n",
        "axes = axes.flatten()  # Flatten the 2D array of subplots to 1D\n",
        "\n",
        "for i in range(20):\n",
        "    image, label = testset[i + 1000]  # Get the image and label\n",
        "    axes[i].imshow(image.squeeze(), cmap='gray')  # Display the image\n",
        "    axes[i].axis('off')  # Turn off axis labels\n",
        "    axes[i].set_title(label)  # Set the title to the label\n",
        "\n",
        "plt.tight_layout()  # Adjust layout to prevent overlapping\n",
        "plt.show()  # Show the plot"
      ],
      "metadata": {
        "colab": {
          "base_uri": "https://localhost:8080/",
          "height": 807
        },
        "id": "tokPX75dDZdz",
        "outputId": "88e93bb4-4e90-43ab-dc16-a7b7590190ad"
      },
      "execution_count": null,
      "outputs": [
        {
          "output_type": "display_data",
          "data": {
            "text/plain": [
              "<Figure size 1000x800 with 20 Axes>"
            ],
            "image/png": "[encoded data removed]"
          },
          "metadata": {}
        }
      ]
    },
    {
      "cell_type": "code",
      "source": [
        "from PIL import Image\n",
        "import numpy as np\n",
        "\n",
        "test_image = torchvision.datasets.MNIST(root='./data', train=False, download=True)\n",
        "image, label = test_image[61]  # Get the first image and its label\n",
        "\n",
        "# Convert to NumPy array\n",
        "image_np = np.array(image)\n",
        "\n",
        "# Flatten the array to 1D\n",
        "image_c = image_np.flatten()\n",
        "\n",
        "# Convert the array to a C-compatible format with newlines and aligned commas\n",
        "c_array = \"{ \"\n",
        "for i, value in enumerate(image_c):\n",
        "    c_array += \"{:3d}, \".format(value)  # Pad with spaces to align commas\n",
        "    if (i + 1) % 28 == 0:\n",
        "        c_array += \"\\n\"  # Add a newline every 28 elements\n",
        "c_array = c_array[:-2] + \" }\"  # Remove the last comma and space, then add the closing brace\n",
        "\n",
        "print(c_array)"
      ],
      "metadata": {
        "id": "ej5jUxi9MzSH",
        "colab": {
          "base_uri": "https://localhost:8080/"
        },
        "outputId": "76c6c70c-cc75-4514-d851-323288675698"
      },
      "execution_count": null,
      "outputs": [
        {
          "output_type": "stream",
          "name": "stdout",
          "text": [
            "{   0,   0,   0,   0,   0,   0,   0,   0,   0,   0,   0,   0,   0,   0,   0,   0,   0,   0,   0,   0,   0,   0,   0,   0,   0,   0,   0,   0, \n",
            "  0,   0,   0,   0,   0,   0,   0,   0,   0,   0,   0,   0,   0,   0,   0,   0,   0,   0,   0,   0,   0,   0,   0,   0,   0,   0,   0,   0, \n",
            "  0,   0,   0,   0,   0,   0,   0,   0,   0,   0,   0,   0,   0,   0,   0,   0,   0,   0,   0,   0,   0,   0,   0,   0,   0,   0,   0,   0, \n",
            "  0,   0,   0,   0,   0,   0,   0,   0,   0,   0,   0,   0,   0,   0,   0,   0,   0,   0,   0,   0,   0,   0,   0,   0,   0,   0,   0,   0, \n",
            "  0,   0,   0,   0,   0,   0,   0,   0,   0,   0,   0,   0,   0,   0,   0,   0,   0,   0,   0,   0,   0,   0,   0,   0,   0,   0,   0,   0, \n",
            "  0,   0,   0,   0,   0,   0,   0,   0,   0,   0,   0,   0,   0,  43,  47,  47,   0,   0,   0,   0,   0,   0,   0,   0,   0,   0,   0,   0, \n",
            "  0,   0,   0,   0,   0,   0,   0,   0,   0,   0,   0,   9, 108, 249, 253, 253, 208, 207, 207, 207, 149,  65,  13,   0,   0,   0,   0,   0, \n",
            "  0,   0,   0,   0,   0,   0,   0,   0,   0,   0,   9, 184, 254, 253, 253, 253, 254, 253, 253, 253, 254, 253, 213,  25,   0,   0,   0,   0, \n",
            "  0,   0,   0,   0,   0,   0,   0,   0,   0,  55, 203, 254, 254, 199, 127, 127,  60,  93,  84,  68, 151, 222, 254, 161,   0,   0,   0,   0, \n",
            "  0,   0,   0,   0,   0,   0,   0,   0,   0, 138, 253, 253, 199,  19,   0,   0,   0,   0,   0,   0,   0, 155, 253, 211,   0,   0,   0,   0, \n",
            "  0,   0,   0,   0,   0,   0,   0,   0,   0, 138, 253, 253,  17,   0,   0,   0,   0,   0,   0,   0,  74, 241, 253, 211,   0,   0,   0,   0, \n",
            "  0,   0,   0,   0,   0,   0,   0,   0,   0, 105, 253, 253, 102,   0,   0,   0,   0,   0,   0,  34, 229, 253, 253, 160,   0,   0,   0,   0, \n",
            "  0,   0,   0,   0,   0,   0,   0,   0,   0,   0, 149, 254, 229,  40,   0,   0,   0,  38, 153, 254, 254, 254, 180,  25,   0,   0,   0,   0, \n",
            "  0,   0,   0,   0,   0,   0,   0,   0,   0,   0,  19, 198, 254, 207,   9,  34,  72, 235, 253, 253, 224, 139,  13,   0,   0,   0,   0,   0, \n",
            "  0,   0,   0,   0,   0,   0,   0,   0,   0,   0,   0,  17, 211, 253, 215, 240, 254, 253, 234, 128,  17,   0,   0,   0,   0,   0,   0,   0, \n",
            "  0,   0,   0,   0,   0,   0,   0,   0,   0,   0,   0, 102, 229, 253, 253, 253, 228,  77,  13,   0,   0,   0,   0,   0,   0,   0,   0,   0, \n",
            "  0,   0,   0,   0,   0,   0,   0,   0,  70, 170, 254, 254, 254, 254, 254, 254, 119,   0,   0,   0,   0,   0,   0,   0,   0,   0,   0,   0, \n",
            "  0,   0,   0,   0,   0,  26, 130, 230, 254, 253, 253, 185, 115,  64, 211, 253, 248,  21,   0,   0,   0,   0,   0,   0,   0,   0,   0,   0, \n",
            "  0,   0,   0,   0, 166, 232, 253, 253, 247, 162,  46,  13,   7,  91, 245, 253, 254,  56,   0,   0,   0,   0,   0,   0,   0,   0,   0,   0, \n",
            "  0,   0,   0,   0, 128, 253, 253, 253, 210,  93, 127, 159, 204, 253, 253, 253, 228,  15,   0,   0,   0,   0,   0,   0,   0,   0,   0,   0, \n",
            "  0,   0,   0,   0,   0, 134, 241, 254, 255, 254, 254, 254, 254, 254, 254, 228,  34,   0,   0,   0,   0,   0,   0,   0,   0,   0,   0,   0, \n",
            "  0,   0,   0,   0,   0,   0,  27, 115, 140, 206, 206, 206, 207, 206, 123,  15,   0,   0,   0,   0,   0,   0,   0,   0,   0,   0,   0,   0, \n",
            "  0,   0,   0,   0,   0,   0,   0,   0,   0,   0,   0,   0,   0,   0,   0,   0,   0,   0,   0,   0,   0,   0,   0,   0,   0,   0,   0,   0, \n",
            "  0,   0,   0,   0,   0,   0,   0,   0,   0,   0,   0,   0,   0,   0,   0,   0,   0,   0,   0,   0,   0,   0,   0,   0,   0,   0,   0,   0, \n",
            "  0,   0,   0,   0,   0,   0,   0,   0,   0,   0,   0,   0,   0,   0,   0,   0,   0,   0,   0,   0,   0,   0,   0,   0,   0,   0,   0,   0, \n",
            "  0,   0,   0,   0,   0,   0,   0,   0,   0,   0,   0,   0,   0,   0,   0,   0,   0,   0,   0,   0,   0,   0,   0,   0,   0,   0,   0,   0, \n",
            "  0,   0,   0,   0,   0,   0,   0,   0,   0,   0,   0,   0,   0,   0,   0,   0,   0,   0,   0,   0,   0,   0,   0,   0,   0,   0,   0,   0, \n",
            "  0,   0,   0,   0,   0,   0,   0,   0,   0,   0,   0,   0,   0,   0,   0,   0,   0,   0,   0,   0,   0,   0,   0,   0,   0,   0,   0,   0, }\n"
          ]
        }
      ]
    },
    {
      "cell_type": "markdown",
      "source": [
        "# Debug"
      ],
      "metadata": {
        "id": "JtAjOcZM9a8Q"
      }
    },
    {
      "cell_type": "code",
      "source": [
        "def conv1_output_hook(module, input, output):\n",
        "    print(\"Conv1 output shape:\", output.shape)\n",
        "    output_np = output.cpu().detach().numpy()\n",
        "\n",
        "    # Extract the desired slice (first channel, 24x24)\n",
        "    data = output_np[0, 0, :24, :24]\n",
        "\n",
        "    # Format the output as a comma-separated list with newlines\n",
        "    formatted_output = \"[\"  # Start with an opening bracket\n",
        "    for row in data:\n",
        "        formatted_output += \"[\" + \", \".join(f\"{x:8.1f}\" for x in row) + \"],\\n\"  # Add newline\n",
        "    formatted_output = formatted_output[:-2] + \"]\"  # Remove last comma and newline, add closing bracket\n",
        "\n",
        "    print(formatted_output)\n",
        "\n",
        "def pool1_output_hook(module, input, output):\n",
        "    print(\"Pool1 output shape:\", output.shape)\n",
        "    output_np = output.cpu().detach().numpy()\n",
        "    print(output_np[0, 0, :12, :12])\n",
        "\n",
        "def conv2_output_hook(module, input, output):\n",
        "    print(\"Conv2 output shape:\", output.shape)\n",
        "    output_np = output.cpu().detach().numpy()\n",
        "    print(\"Some values from Conv2 output:\")\n",
        "    print(output_np[0, 0, :8, :8])\n",
        "\n",
        "def pool2_output_hook(module, input, output):\n",
        "    print(\"Pool2 output shape:\", output.shape)\n",
        "    output_np = output.cpu().detach().numpy()\n",
        "    print(\"Some values from Pool2 output:\")\n",
        "    print(output_np[0, 0, :4, :4])\n",
        "\n",
        "def fc1_output_hook(module, input, output):\n",
        "    print(\"FC1 output shape:\", output.shape)\n",
        "    output_np = output.cpu().detach().numpy()\n",
        "    print(\"Some values from FC1 output:\")\n",
        "    print(output_np[0, :5])  # Print first 5 values\n",
        "\n",
        "def fc2_output_hook(module, input, output):\n",
        "    print(\"FC2 output shape:\", output.shape)\n",
        "    output_np = output.cpu().detach().numpy()\n",
        "    print(\"Some values from FC2 output:\")\n",
        "    print(output_np[0, :5])  # Print first 5 values\n",
        "\n",
        "def fc3_output_hook(module, input, output):\n",
        "    print(\"FC3 output shape:\", output.shape)\n",
        "    output_np = output.cpu().detach().numpy()\n",
        "    print(\"Some values from FC3 output:\")\n",
        "    print(output_np[0, :10])"
      ],
      "metadata": {
        "id": "xiOj7afKo66T"
      },
      "execution_count": null,
      "outputs": []
    },
    {
      "cell_type": "code",
      "source": [
        "# Register the hooks\n",
        "# handle_conv1 = model.conv1.register_forward_hook(conv1_output_hook)\n",
        "# handle_pool1 = model.pool.register_forward_hook(pool1_output_hook) # For the first pooling layer\n",
        "# handle_conv2 = model.conv2.register_forward_hook(conv2_output_hook)\n",
        "# handle_pool2 = model.pool.register_forward_hook(pool2_output_hook)  # For the second pooling layer\n",
        "# handle_fc1 = model.fc1.register_forward_hook(fc1_output_hook)\n",
        "# handle_fc2 = model.fc2.register_forward_hook(fc2_output_hook)\n",
        "# handle_fc3 = model.fc3.register_forward_hook(fc3_output_hook)\n",
        "\n",
        "image_tensor = torch.from_numpy(image_np).float() / 255.0\n",
        "print(image_tensor)\n",
        "image_tensor = image_tensor.unsqueeze(0).unsqueeze(0)\n",
        "\n",
        "with torch.no_grad():\n",
        "    output = model(image_tensor)\n",
        "\n",
        "_, predicted = torch.max(output, 1)\n",
        "predicted_class = predicted.item()\n",
        "\n",
        "print(f\"Predicted class: {predicted_class}\")\n",
        "\n",
        "# Remove the hooks\n",
        "# handle_conv1.remove()\n",
        "# handle_pool1.remove()\n",
        "# handle_conv2.remove()\n",
        "# handle_pool2.remove()\n",
        "# handle_fc1.remove()\n",
        "# handle_fc2.remove()\n",
        "# handle_fc3.remove()"
      ],
      "metadata": {
        "id": "NW6ROzYZd41h",
        "colab": {
          "base_uri": "https://localhost:8080/"
        },
        "outputId": "12dff69d-ae81-4a37-8dfa-cb6b924b4dcc"
      },
      "execution_count": null,
      "outputs": [
        {
          "output_type": "stream",
          "name": "stdout",
          "text": [
            "tensor([[0.0000, 0.0000, 0.0000, 0.0000, 0.0000, 0.0000, 0.0000, 0.0000, 0.0000,\n",
            "         0.0000, 0.0000, 0.0000, 0.0000, 0.0000, 0.0000, 0.0000, 0.0000, 0.0000,\n",
            "         0.0000, 0.0000, 0.0000, 0.0000, 0.0000, 0.0000, 0.0000, 0.0000, 0.0000,\n",
            "         0.0000],\n",
            "        [0.0000, 0.0000, 0.0000, 0.0000, 0.0000, 0.0000, 0.0000, 0.0000, 0.0000,\n",
            "         0.0000, 0.0000, 0.0000, 0.0000, 0.0000, 0.0000, 0.0000, 0.0000, 0.0000,\n",
            "         0.0000, 0.0000, 0.0000, 0.0000, 0.0000, 0.0000, 0.0000, 0.0000, 0.0000,\n",
            "         0.0000],\n",
            "        [0.0000, 0.0000, 0.0000, 0.0000, 0.0000, 0.0000, 0.0000, 0.0000, 0.0000,\n",
            "         0.0000, 0.0000, 0.0000, 0.0000, 0.0000, 0.0000, 0.0000, 0.0000, 0.0000,\n",
            "         0.0000, 0.0000, 0.0000, 0.0000, 0.0000, 0.0000, 0.0000, 0.0000, 0.0000,\n",
            "         0.0000],\n",
            "        [0.0000, 0.0000, 0.0000, 0.0000, 0.0000, 0.0000, 0.0000, 0.0000, 0.0000,\n",
            "         0.0000, 0.0000, 0.0000, 0.0000, 0.0000, 0.0000, 0.0000, 0.0000, 0.0000,\n",
            "         0.0000, 0.0000, 0.0000, 0.0000, 0.0000, 0.0000, 0.0000, 0.0000, 0.0000,\n",
            "         0.0000],\n",
            "        [0.0000, 0.0000, 0.0000, 0.0000, 0.0000, 0.0000, 0.0000, 0.0000, 0.0000,\n",
            "         0.0000, 0.0000, 0.0000, 0.0000, 0.0000, 0.0000, 0.0000, 0.0000, 0.0000,\n",
            "         0.0000, 0.0000, 0.0000, 0.0000, 0.0000, 0.0000, 0.0000, 0.0000, 0.0000,\n",
            "         0.0000],\n",
            "        [0.0000, 0.0000, 0.0000, 0.0000, 0.0000, 0.0000, 0.0000, 0.0000, 0.0000,\n",
            "         0.0000, 0.0000, 0.0000, 0.0000, 0.1686, 0.1843, 0.1843, 0.0000, 0.0000,\n",
            "         0.0000, 0.0000, 0.0000, 0.0000, 0.0000, 0.0000, 0.0000, 0.0000, 0.0000,\n",
            "         0.0000],\n",
            "        [0.0000, 0.0000, 0.0000, 0.0000, 0.0000, 0.0000, 0.0000, 0.0000, 0.0000,\n",
            "         0.0000, 0.0000, 0.0353, 0.4235, 0.9765, 0.9922, 0.9922, 0.8157, 0.8118,\n",
            "         0.8118, 0.8118, 0.5843, 0.2549, 0.0510, 0.0000, 0.0000, 0.0000, 0.0000,\n",
            "         0.0000],\n",
            "        [0.0000, 0.0000, 0.0000, 0.0000, 0.0000, 0.0000, 0.0000, 0.0000, 0.0000,\n",
            "         0.0000, 0.0353, 0.7216, 0.9961, 0.9922, 0.9922, 0.9922, 0.9961, 0.9922,\n",
            "         0.9922, 0.9922, 0.9961, 0.9922, 0.8353, 0.0980, 0.0000, 0.0000, 0.0000,\n",
            "         0.0000],\n",
            "        [0.0000, 0.0000, 0.0000, 0.0000, 0.0000, 0.0000, 0.0000, 0.0000, 0.0000,\n",
            "         0.2157, 0.7961, 0.9961, 0.9961, 0.7804, 0.4980, 0.4980, 0.2353, 0.3647,\n",
            "         0.3294, 0.2667, 0.5922, 0.8706, 0.9961, 0.6314, 0.0000, 0.0000, 0.0000,\n",
            "         0.0000],\n",
            "        [0.0000, 0.0000, 0.0000, 0.0000, 0.0000, 0.0000, 0.0000, 0.0000, 0.0000,\n",
            "         0.5412, 0.9922, 0.9922, 0.7804, 0.0745, 0.0000, 0.0000, 0.0000, 0.0000,\n",
            "         0.0000, 0.0000, 0.0000, 0.6078, 0.9922, 0.8275, 0.0000, 0.0000, 0.0000,\n",
            "         0.0000],\n",
            "        [0.0000, 0.0000, 0.0000, 0.0000, 0.0000, 0.0000, 0.0000, 0.0000, 0.0000,\n",
            "         0.5412, 0.9922, 0.9922, 0.0667, 0.0000, 0.0000, 0.0000, 0.0000, 0.0000,\n",
            "         0.0000, 0.0000, 0.2902, 0.9451, 0.9922, 0.8275, 0.0000, 0.0000, 0.0000,\n",
            "         0.0000],\n",
            "        [0.0000, 0.0000, 0.0000, 0.0000, 0.0000, 0.0000, 0.0000, 0.0000, 0.0000,\n",
            "         0.4118, 0.9922, 0.9922, 0.4000, 0.0000, 0.0000, 0.0000, 0.0000, 0.0000,\n",
            "         0.0000, 0.1333, 0.8980, 0.9922, 0.9922, 0.6275, 0.0000, 0.0000, 0.0000,\n",
            "         0.0000],\n",
            "        [0.0000, 0.0000, 0.0000, 0.0000, 0.0000, 0.0000, 0.0000, 0.0000, 0.0000,\n",
            "         0.0000, 0.5843, 0.9961, 0.8980, 0.1569, 0.0000, 0.0000, 0.0000, 0.1490,\n",
            "         0.6000, 0.9961, 0.9961, 0.9961, 0.7059, 0.0980, 0.0000, 0.0000, 0.0000,\n",
            "         0.0000],\n",
            "        [0.0000, 0.0000, 0.0000, 0.0000, 0.0000, 0.0000, 0.0000, 0.0000, 0.0000,\n",
            "         0.0000, 0.0745, 0.7765, 0.9961, 0.8118, 0.0353, 0.1333, 0.2824, 0.9216,\n",
            "         0.9922, 0.9922, 0.8784, 0.5451, 0.0510, 0.0000, 0.0000, 0.0000, 0.0000,\n",
            "         0.0000],\n",
            "        [0.0000, 0.0000, 0.0000, 0.0000, 0.0000, 0.0000, 0.0000, 0.0000, 0.0000,\n",
            "         0.0000, 0.0000, 0.0667, 0.8275, 0.9922, 0.8431, 0.9412, 0.9961, 0.9922,\n",
            "         0.9176, 0.5020, 0.0667, 0.0000, 0.0000, 0.0000, 0.0000, 0.0000, 0.0000,\n",
            "         0.0000],\n",
            "        [0.0000, 0.0000, 0.0000, 0.0000, 0.0000, 0.0000, 0.0000, 0.0000, 0.0000,\n",
            "         0.0000, 0.0000, 0.4000, 0.8980, 0.9922, 0.9922, 0.9922, 0.8941, 0.3020,\n",
            "         0.0510, 0.0000, 0.0000, 0.0000, 0.0000, 0.0000, 0.0000, 0.0000, 0.0000,\n",
            "         0.0000],\n",
            "        [0.0000, 0.0000, 0.0000, 0.0000, 0.0000, 0.0000, 0.0000, 0.0000, 0.2745,\n",
            "         0.6667, 0.9961, 0.9961, 0.9961, 0.9961, 0.9961, 0.9961, 0.4667, 0.0000,\n",
            "         0.0000, 0.0000, 0.0000, 0.0000, 0.0000, 0.0000, 0.0000, 0.0000, 0.0000,\n",
            "         0.0000],\n",
            "        [0.0000, 0.0000, 0.0000, 0.0000, 0.0000, 0.1020, 0.5098, 0.9020, 0.9961,\n",
            "         0.9922, 0.9922, 0.7255, 0.4510, 0.2510, 0.8275, 0.9922, 0.9725, 0.0824,\n",
            "         0.0000, 0.0000, 0.0000, 0.0000, 0.0000, 0.0000, 0.0000, 0.0000, 0.0000,\n",
            "         0.0000],\n",
            "        [0.0000, 0.0000, 0.0000, 0.0000, 0.6510, 0.9098, 0.9922, 0.9922, 0.9686,\n",
            "         0.6353, 0.1804, 0.0510, 0.0275, 0.3569, 0.9608, 0.9922, 0.9961, 0.2196,\n",
            "         0.0000, 0.0000, 0.0000, 0.0000, 0.0000, 0.0000, 0.0000, 0.0000, 0.0000,\n",
            "         0.0000],\n",
            "        [0.0000, 0.0000, 0.0000, 0.0000, 0.5020, 0.9922, 0.9922, 0.9922, 0.8235,\n",
            "         0.3647, 0.4980, 0.6235, 0.8000, 0.9922, 0.9922, 0.9922, 0.8941, 0.0588,\n",
            "         0.0000, 0.0000, 0.0000, 0.0000, 0.0000, 0.0000, 0.0000, 0.0000, 0.0000,\n",
            "         0.0000],\n",
            "        [0.0000, 0.0000, 0.0000, 0.0000, 0.0000, 0.5255, 0.9451, 0.9961, 1.0000,\n",
            "         0.9961, 0.9961, 0.9961, 0.9961, 0.9961, 0.9961, 0.8941, 0.1333, 0.0000,\n",
            "         0.0000, 0.0000, 0.0000, 0.0000, 0.0000, 0.0000, 0.0000, 0.0000, 0.0000,\n",
            "         0.0000],\n",
            "        [0.0000, 0.0000, 0.0000, 0.0000, 0.0000, 0.0000, 0.1059, 0.4510, 0.5490,\n",
            "         0.8078, 0.8078, 0.8078, 0.8118, 0.8078, 0.4824, 0.0588, 0.0000, 0.0000,\n",
            "         0.0000, 0.0000, 0.0000, 0.0000, 0.0000, 0.0000, 0.0000, 0.0000, 0.0000,\n",
            "         0.0000],\n",
            "        [0.0000, 0.0000, 0.0000, 0.0000, 0.0000, 0.0000, 0.0000, 0.0000, 0.0000,\n",
            "         0.0000, 0.0000, 0.0000, 0.0000, 0.0000, 0.0000, 0.0000, 0.0000, 0.0000,\n",
            "         0.0000, 0.0000, 0.0000, 0.0000, 0.0000, 0.0000, 0.0000, 0.0000, 0.0000,\n",
            "         0.0000],\n",
            "        [0.0000, 0.0000, 0.0000, 0.0000, 0.0000, 0.0000, 0.0000, 0.0000, 0.0000,\n",
            "         0.0000, 0.0000, 0.0000, 0.0000, 0.0000, 0.0000, 0.0000, 0.0000, 0.0000,\n",
            "         0.0000, 0.0000, 0.0000, 0.0000, 0.0000, 0.0000, 0.0000, 0.0000, 0.0000,\n",
            "         0.0000],\n",
            "        [0.0000, 0.0000, 0.0000, 0.0000, 0.0000, 0.0000, 0.0000, 0.0000, 0.0000,\n",
            "         0.0000, 0.0000, 0.0000, 0.0000, 0.0000, 0.0000, 0.0000, 0.0000, 0.0000,\n",
            "         0.0000, 0.0000, 0.0000, 0.0000, 0.0000, 0.0000, 0.0000, 0.0000, 0.0000,\n",
            "         0.0000],\n",
            "        [0.0000, 0.0000, 0.0000, 0.0000, 0.0000, 0.0000, 0.0000, 0.0000, 0.0000,\n",
            "         0.0000, 0.0000, 0.0000, 0.0000, 0.0000, 0.0000, 0.0000, 0.0000, 0.0000,\n",
            "         0.0000, 0.0000, 0.0000, 0.0000, 0.0000, 0.0000, 0.0000, 0.0000, 0.0000,\n",
            "         0.0000],\n",
            "        [0.0000, 0.0000, 0.0000, 0.0000, 0.0000, 0.0000, 0.0000, 0.0000, 0.0000,\n",
            "         0.0000, 0.0000, 0.0000, 0.0000, 0.0000, 0.0000, 0.0000, 0.0000, 0.0000,\n",
            "         0.0000, 0.0000, 0.0000, 0.0000, 0.0000, 0.0000, 0.0000, 0.0000, 0.0000,\n",
            "         0.0000],\n",
            "        [0.0000, 0.0000, 0.0000, 0.0000, 0.0000, 0.0000, 0.0000, 0.0000, 0.0000,\n",
            "         0.0000, 0.0000, 0.0000, 0.0000, 0.0000, 0.0000, 0.0000, 0.0000, 0.0000,\n",
            "         0.0000, 0.0000, 0.0000, 0.0000, 0.0000, 0.0000, 0.0000, 0.0000, 0.0000,\n",
            "         0.0000]])\n",
            "Predicted class: 8\n"
          ]
        }
      ]
    },
    {
      "cell_type": "code",
      "source": [
        "# Load the saved model weights\n",
        "model = LeNet5()  # Assuming LeNet5 is your model class\n",
        "model.load_state_dict(torch.load(\"lenet5.pth\"))\n",
        "\n",
        "# Access the conv1 weights and print them\n",
        "conv1_weights = model.conv1.weight\n",
        "print(conv1_weights)"
      ],
      "metadata": {
        "colab": {
          "base_uri": "https://localhost:8080/"
        },
        "id": "bWXL5McU4Ba8",
        "outputId": "7c5537d8-aa6b-48a4-82b4-6c06181ea998"
      },
      "execution_count": null,
      "outputs": [
        {
          "output_type": "stream",
          "name": "stdout",
          "text": [
            "Parameter containing:\n",
            "tensor([[[[-0.0750,  0.2092,  0.2938,  0.2677,  0.3571],\n",
            "          [-0.5367, -0.4911,  0.0321,  0.0734,  0.2556],\n",
            "          [-0.1879, -0.7519, -0.6592, -0.3133, -0.0702],\n",
            "          [ 0.0607, -0.0856, -0.4748, -0.4505, -0.4054],\n",
            "          [ 0.4209,  0.2112,  0.2973,  0.0313, -0.0994]]],\n",
            "\n",
            "\n",
            "        [[[ 0.2050,  0.0804,  0.4202,  0.4437,  0.3386],\n",
            "          [ 0.0995,  0.3539,  0.3723,  0.1309,  0.2688],\n",
            "          [ 0.2532, -0.0321, -0.1855, -0.2371, -0.1188],\n",
            "          [-0.3071, -0.3966, -0.4237, -0.2394, -0.1236],\n",
            "          [-0.1013, -0.2184, -0.3528, -0.1948, -0.0066]]],\n",
            "\n",
            "\n",
            "        [[[-0.0260,  0.1901,  0.2594, -0.0635,  0.1591],\n",
            "          [ 0.1697,  0.2230,  0.0068,  0.2553,  0.1468],\n",
            "          [-0.2522, -0.1651, -0.0031,  0.2432, -0.0330],\n",
            "          [-0.0139, -0.0478,  0.1829,  0.3259, -0.1146],\n",
            "          [-0.3358,  0.0285, -0.1881,  0.2433,  0.0727]]],\n",
            "\n",
            "\n",
            "        [[[-0.0646,  0.1697,  0.0476,  0.2687, -0.2904],\n",
            "          [ 0.1782,  0.3334,  0.2861,  0.0723, -0.1772],\n",
            "          [-0.0747, -0.1003,  0.3803,  0.0317, -0.0537],\n",
            "          [-0.2873, -0.1326,  0.2441,  0.3253, -0.0864],\n",
            "          [-0.0971, -0.1122,  0.1452,  0.0497,  0.1982]]],\n",
            "\n",
            "\n",
            "        [[[-0.0640, -0.2769, -0.1441, -0.0351, -0.1789],\n",
            "          [-0.0549, -0.0866, -0.3517, -0.0600, -0.2559],\n",
            "          [ 0.2734,  0.1164, -0.0430,  0.2444,  0.0550],\n",
            "          [ 0.2027,  0.1349,  0.3766,  0.3086,  0.2421],\n",
            "          [ 0.2085,  0.0547,  0.1771,  0.2942,  0.1998]]],\n",
            "\n",
            "\n",
            "        [[[-0.1747, -0.0988,  0.0489,  0.1909, -0.0478],\n",
            "          [-0.0840, -0.0393,  0.1777,  0.3314,  0.2157],\n",
            "          [ 0.3276,  0.1601,  0.2907,  0.1426,  0.1178],\n",
            "          [ 0.0500,  0.0811,  0.3045,  0.0090,  0.0026],\n",
            "          [-0.0187,  0.1529,  0.0933,  0.0609, -0.0260]]]], requires_grad=True)\n"
          ]
        }
      ]
    },
    {
      "cell_type": "code",
      "source": [],
      "metadata": {
        "id": "ZijHoCYotocC"
      },
      "execution_count": null,
      "outputs": []
    },
    {
      "cell_type": "code",
      "source": [
        "import gc\n",
        "del model\n",
        "gc.collect()\n",
        "torch.cuda.empty_cache()"
      ],
      "metadata": {
        "id": "B150dfK0rBvx"
      },
      "execution_count": null,
      "outputs": []
    }
  ]
}