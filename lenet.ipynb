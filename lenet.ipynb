{
  "nbformat": 4,
  "nbformat_minor": 0,
  "metadata": {
    "colab": {
      "provenance": []
    },
    "kernelspec": {
      "name": "python3",
      "display_name": "Python 3"
    },
    "language_info": {
      "name": "python"
    }
  },
  "cells": [
    {
      "cell_type": "markdown",
      "source": [
        "# Train Model"
      ],
      "metadata": {
        "id": "e4iER9RJE9U-"
      }
    },
    {
      "cell_type": "code",
      "source": [
        "import torch\n",
        "import torch.nn as nn\n",
        "import torch.optim as optim\n",
        "import torchvision\n",
        "import torchvision.transforms as transforms\n",
        "\n",
        "# Define LeNet-5 model\n",
        "class LeNet5(nn.Module):\n",
        "    def __init__(self):\n",
        "        super(LeNet5, self).__init__()\n",
        "        self.conv1 = nn.Conv2d(1, 6, kernel_size=5)\n",
        "        self.pool = nn.MaxPool2d(2, stride=2)\n",
        "        self.conv2 = nn.Conv2d(6, 16, kernel_size=5)\n",
        "        self.fc1 = nn.Linear(16 * 4 * 4, 120)\n",
        "        self.fc2 = nn.Linear(120, 84)\n",
        "        self.fc3 = nn.Linear(84, 10)\n",
        "\n",
        "    def forward(self, x):\n",
        "        x = self.pool(torch.relu(self.conv1(x)))  # 6x24x24 → 6x12x12\n",
        "        x = self.pool(torch.relu(self.conv2(x)))  # 16x8x8 → 16x4x4\n",
        "        x = x.view(-1, 16 * 4 * 4)  # Flatten\n",
        "        x = torch.relu(self.fc1(x))\n",
        "        x = torch.relu(self.fc2(x))\n",
        "        x = self.fc3(x)\n",
        "        return x\n",
        "\n",
        "# Load MNIST dataset\n",
        "transform = transforms.Compose([transforms.ToTensor()])\n",
        "trainset = torchvision.datasets.MNIST(root='./data', train=True, download=True, transform=transform)\n",
        "testset = torchvision.datasets.MNIST(root='./data', train=False, download=True, transform=transform)\n",
        "\n",
        "\n",
        "# Split training set into training and validation (90% train, 10% val)\n",
        "train_size = int(0.8 * len(trainset))\n",
        "val_size = len(trainset) - train_size\n",
        "trainset, valset = torch.utils.data.random_split(trainset, [train_size, val_size])\n",
        "\n",
        "trainloader = torch.utils.data.DataLoader(trainset, batch_size=64, shuffle=True)\n",
        "valloader = torch.utils.data.DataLoader(valset, batch_size=64, shuffle=False)\n",
        "testloader = torch.utils.data.DataLoader(testset, batch_size=64, shuffle=False)\n",
        "\n",
        "# Initialize model, loss function, and optimizer\n",
        "device = torch.device(\"cuda\" if torch.cuda.is_available() else \"cpu\")\n",
        "model = LeNet5().to(device)\n",
        "criterion = nn.CrossEntropyLoss()\n",
        "optimizer = optim.Adam(model.parameters(), lr=0.001)\n",
        "\n",
        "# Function to evaluate accuracy\n",
        "def evaluate(model, dataloader, device):\n",
        "    model.eval()\n",
        "    correct, total = 0, 0\n",
        "    with torch.no_grad():\n",
        "        for images, labels in dataloader:\n",
        "            images, labels = images.to(device), labels.to(device)\n",
        "            outputs = model(images)\n",
        "            _, predicted = torch.max(outputs, 1)\n",
        "            total += labels.size(0)\n",
        "            correct += (predicted == labels).sum().item()\n",
        "    return correct / total\n",
        "\n",
        "# Train the model\n",
        "num_epochs = 5\n",
        "for epoch in range(num_epochs):\n",
        "    model.train()\n",
        "    running_loss = 0.0\n",
        "    for images, labels in trainloader:\n",
        "        images, labels = images.to(device), labels.to(device)\n",
        "        optimizer.zero_grad()\n",
        "        outputs = model(images)\n",
        "        loss = criterion(outputs, labels)\n",
        "        loss.backward()\n",
        "        optimizer.step()\n",
        "        running_loss += loss.item()\n",
        "\n",
        "    train_acc = evaluate(model, trainloader, device)\n",
        "    val_acc = evaluate(model, valloader, device)\n",
        "\n",
        "    print(f\"Epoch {epoch+1}/{num_epochs}, Loss: {running_loss/len(trainloader):.4f}, Train Acc: {train_acc*100:.2f}%, Val Acc: {val_acc*100:.2f}%\")\n",
        "\n",
        "# Evaluate on test set\n",
        "test_acc = evaluate(model, testloader, device)\n",
        "print(f\"Test Accuracy: {test_acc*100:.2f}%\")\n",
        "\n",
        "# Save the model weights\n",
        "torch.save(model.state_dict(), \"lenet5.pth\")\n",
        "print(\"Model saved!\")"
      ],
      "metadata": {
        "colab": {
          "base_uri": "https://localhost:8080/"
        },
        "id": "27XU4rLdY02P",
        "outputId": "3986a79a-89f7-4aa1-f9d6-1894a1f10e86"
      },
      "execution_count": 70,
      "outputs": [
        {
          "output_type": "stream",
          "name": "stdout",
          "text": [
            "Epoch 1/5, Loss: 0.3510, Train Acc: 96.13%, Val Acc: 95.88%\n",
            "Epoch 2/5, Loss: 0.0974, Train Acc: 97.33%, Val Acc: 96.87%\n",
            "Epoch 3/5, Loss: 0.0658, Train Acc: 98.33%, Val Acc: 97.97%\n",
            "Epoch 4/5, Loss: 0.0521, Train Acc: 98.84%, Val Acc: 98.25%\n",
            "Epoch 5/5, Loss: 0.0424, Train Acc: 98.85%, Val Acc: 98.23%\n",
            "Test Accuracy: 98.60%\n",
            "Model saved!\n"
          ]
        }
      ]
    },
    {
      "cell_type": "markdown",
      "source": [
        "# Extract Weights"
      ],
      "metadata": {
        "id": "bC_HCArmE304"
      }
    },
    {
      "cell_type": "code",
      "source": [
        "import torch\n",
        "import numpy as np\n",
        "\n",
        "model = LeNet5()\n",
        "state_dict = torch.load('lenet5.pth', map_location=torch.device('cpu'), weights_only=True)  # Set weights_only=True\n",
        "model.load_state_dict(state_dict)  # Load the state dictionary\n",
        "model.eval()\n",
        "\n",
        "# Extract the weights\n",
        "conv1_weights = model.conv1.weight.data.numpy()  # Assuming 'conv1' is the first convolutional layer\n",
        "conv1_biases = model.conv1.bias.data.numpy()\n",
        "conv2_weights = model.conv2.weight.data.numpy()\n",
        "conv2_biases = model.conv2.bias.data.numpy()\n",
        "fc1_weights = model.fc1.weight.data.numpy()\n",
        "fc1_biases = model.fc1.bias.data.numpy()\n",
        "fc2_weights = model.fc2.weight.data.numpy()\n",
        "fc2_biases = model.fc2.bias.data.numpy()\n",
        "fc3_weights = model.fc3.weight.data.numpy()\n",
        "fc3_biases = model.fc3.bias.data.numpy()\n",
        "\n",
        "# Save weights as NumPy arrays\n",
        "np.savez('lenet_weights.npz',\n",
        "         conv1_weights=conv1_weights, conv1_biases=conv1_biases,\n",
        "         conv2_weights=conv2_weights, conv2_biases=conv2_biases,\n",
        "         fc1_weights=fc1_weights, fc1_biases=fc1_biases,\n",
        "         fc2_weights=fc2_weights, fc2_biases=fc2_biases,\n",
        "         fc3_weights=fc3_weights, fc3_biases=fc3_biases)"
      ],
      "metadata": {
        "id": "3khpr2SUFiL8"
      },
      "execution_count": 71,
      "outputs": []
    },
    {
      "cell_type": "code",
      "source": [
        "import numpy as np\n",
        "\n",
        "# Load the weights\n",
        "weights = np.load('lenet_weights.npz')\n",
        "\n",
        "# Create a C header file to store the weights\n",
        "with open('lenet_weights.h', 'w') as f:\n",
        "    # Function to convert NumPy arrays to C arrays\n",
        "    def array_to_c(array, name):\n",
        "        def format_array(arr, indent=0):\n",
        "            if arr.ndim == 1:  # Base case: 1D array\n",
        "                return \"{\" + \", \".join(f\"{x:.8f}\" for x in arr) + \"}\"\n",
        "            else:\n",
        "                # Recursive case: Multi-dimensional array\n",
        "                lines = [format_array(sub_arr, indent + 4) for sub_arr in arr]\n",
        "                return \"{\\n\" + \",\\n\".join(\" \" * (indent + 4) + line for line in lines) + \"\\n\" + \" \" * indent + \"}\"\n",
        "\n",
        "        shape_str = str(array.shape).replace('(', '[').replace(')', ']')\n",
        "        shape_str = shape_str.replace(', ', '][')  # Replace commas with ][ for C array declaration\n",
        "        # Remove trailing comma for 1D arrays\n",
        "        if array.ndim == 1:\n",
        "            shape_str = shape_str[:-2] + \"]\"  # Remove the trailing \"],\" and add \"]\"\n",
        "\n",
        "\n",
        "        f.write(f\"float {name}{shape_str} = \")\n",
        "        f.write(format_array(array) + \";\\n\\n\")\n",
        "\n",
        "    # Convert and write the weights to the header file\n",
        "    array_to_c(weights['conv1_weights'], 'conv1_weights')\n",
        "    array_to_c(weights['conv1_biases'], 'conv1_biases')\n",
        "    array_to_c(weights['conv2_weights'], 'conv2_weights')\n",
        "    array_to_c(weights['conv2_biases'], 'conv2_biases')\n",
        "    array_to_c(weights['fc1_weights'], 'fc1_weights')\n",
        "    array_to_c(weights['fc1_biases'], 'fc1_biases')\n",
        "    array_to_c(weights['fc2_weights'], 'fc2_weights')\n",
        "    array_to_c(weights['fc2_biases'], 'fc2_biases')\n",
        "    array_to_c(weights['fc3_weights'], 'fc3_weights')\n",
        "    array_to_c(weights['fc3_biases'], 'fc3_biases')\n",
        "\n",
        "print(\"Weights saved to lenet_weights.h\")"
      ],
      "metadata": {
        "id": "tgV5G5kTJgLy",
        "colab": {
          "base_uri": "https://localhost:8080/"
        },
        "outputId": "88b012bd-02b0-4fb9-92ce-bac448f33b94"
      },
      "execution_count": 72,
      "outputs": [
        {
          "output_type": "stream",
          "name": "stdout",
          "text": [
            "Weights saved to lenet_weights.h\n"
          ]
        }
      ]
    },
    {
      "cell_type": "markdown",
      "source": [
        "# Export Image"
      ],
      "metadata": {
        "id": "MK-1m8Ed9iiI"
      }
    },
    {
      "cell_type": "code",
      "source": [
        "import matplotlib.pyplot as plt\n",
        "import torchvision\n",
        "import torchvision.transforms as transforms\n",
        "\n",
        "# Load the MNIST testing dataset\n",
        "transform = transforms.Compose([transforms.ToTensor()])\n",
        "testset = torchvision.datasets.MNIST(root='./data', train=False, download=True, transform=transform)\n",
        "\n",
        "# Display the first 20 images\n",
        "fig, axes = plt.subplots(4, 5, figsize=(10, 8))  # Create a 4x5 grid of subplots\n",
        "axes = axes.flatten()  # Flatten the 2D array of subplots to 1D\n",
        "\n",
        "for i in range(20):\n",
        "    image, label = testset[i]  # Get the image and label\n",
        "    axes[i].imshow(image.squeeze(), cmap='gray')  # Display the image\n",
        "    axes[i].axis('off')  # Turn off axis labels\n",
        "    axes[i].set_title(label)  # Set the title to the label\n",
        "\n",
        "plt.tight_layout()  # Adjust layout to prevent overlapping\n",
        "plt.show()  # Show the plot"
      ],
      "metadata": {
        "colab": {
          "base_uri": "https://localhost:8080/",
          "height": 807
        },
        "id": "tokPX75dDZdz",
        "outputId": "876130b2-8ddc-472a-9908-5c6e4a1f9b12"
      },
      "execution_count": 97,
      "outputs": [
        {
          "output_type": "display_data",
          "data": {
            "text/plain": [
              "<Figure size 1000x800 with 20 Axes>"
            ],
            "image/png": "[encoded data removed]"
          },
          "metadata": {}
        }
      ]
    },
    {
      "cell_type": "code",
      "source": [
        "from PIL import Image\n",
        "import numpy as np\n",
        "\n",
        "test_image = torchvision.datasets.MNIST(root='./data', train=False, download=True)\n",
        "image, label = test_image[0]  # Get the first image and its label\n",
        "\n",
        "# Convert to NumPy array\n",
        "image_np = np.array(image)\n",
        "\n",
        "# Flatten the array to 1D\n",
        "image_c = image_np.flatten()\n",
        "\n",
        "# Convert the array to a C-compatible format with newlines and aligned commas\n",
        "c_array = \"{ \"\n",
        "for i, value in enumerate(image_c):\n",
        "    c_array += \"{:3d}, \".format(value)  # Pad with spaces to align commas\n",
        "    if (i + 1) % 28 == 0:\n",
        "        c_array += \"\\n\"  # Add a newline every 28 elements\n",
        "c_array = c_array[:-2] + \" }\"  # Remove the last comma and space, then add the closing brace\n",
        "\n",
        "print(c_array)"
      ],
      "metadata": {
        "id": "ej5jUxi9MzSH",
        "colab": {
          "base_uri": "https://localhost:8080/"
        },
        "outputId": "e736cba3-e373-4c17-d311-cc2311ca32db"
      },
      "execution_count": 96,
      "outputs": [
        {
          "output_type": "stream",
          "name": "stdout",
          "text": [
            "{   0,   0,   0,   0,   0,   0,   0,   0,   0,   0,   0,   0,   0,   0,   0,   0,   0,   0,   0,   0,   0,   0,   0,   0,   0,   0,   0,   0, \n",
            "  0,   0,   0,   0,   0,   0,   0,   0,   0,   0,   0,   0,   0,   0,   0,   0,   0,   0,   0,   0,   0,   0,   0,   0,   0,   0,   0,   0, \n",
            "  0,   0,   0,   0,   0,   0,   0,   0,   0,   0,   0,   0,   0,   0,   0,   0,   0,   0,   0,   0,   0,   0,   0,   0,   0,   0,   0,   0, \n",
            "  0,   0,   0,   0,   0,   0,   0,   0,   0,   0,   0,   0,   0,   0,   0,   0,   0,   0,   0,   0,   0,   0,   0,   0,   0,   0,   0,   0, \n",
            "  0,   0,   0,   0,   0,   0,   0,   0,   0,   0,   0,   0,   0,   0,   0,   0,   0,   0,   0,   0,   0,   0,   0,   0,   0,   0,   0,   0, \n",
            "  0,   0,   0,   0,   0,   0,   0,   0,   0,   0,   0,   0,   0,   0,   0,   0,   0,   0,   0,   0,   0,   0,   0,   0,   0,   0,   0,   0, \n",
            "  0,   0,   0,   0,   0,   0,   0,   0,   0,   0,   0,   0,   0,   0,   0,   0,   0,   0,   0,   0,   0,   0,   0,   0,   0,   0,   0,   0, \n",
            "  0,   0,   0,   0,   0,   0,  84, 185, 159, 151,  60,  36,   0,   0,   0,   0,   0,   0,   0,   0,   0,   0,   0,   0,   0,   0,   0,   0, \n",
            "  0,   0,   0,   0,   0,   0, 222, 254, 254, 254, 254, 241, 198, 198, 198, 198, 198, 198, 198, 198, 170,  52,   0,   0,   0,   0,   0,   0, \n",
            "  0,   0,   0,   0,   0,   0,  67, 114,  72, 114, 163, 227, 254, 225, 254, 254, 254, 250, 229, 254, 254, 140,   0,   0,   0,   0,   0,   0, \n",
            "  0,   0,   0,   0,   0,   0,   0,   0,   0,   0,   0,  17,  66,  14,  67,  67,  67,  59,  21, 236, 254, 106,   0,   0,   0,   0,   0,   0, \n",
            "  0,   0,   0,   0,   0,   0,   0,   0,   0,   0,   0,   0,   0,   0,   0,   0,   0,   0,  83, 253, 209,  18,   0,   0,   0,   0,   0,   0, \n",
            "  0,   0,   0,   0,   0,   0,   0,   0,   0,   0,   0,   0,   0,   0,   0,   0,   0,  22, 233, 255,  83,   0,   0,   0,   0,   0,   0,   0, \n",
            "  0,   0,   0,   0,   0,   0,   0,   0,   0,   0,   0,   0,   0,   0,   0,   0,   0, 129, 254, 238,  44,   0,   0,   0,   0,   0,   0,   0, \n",
            "  0,   0,   0,   0,   0,   0,   0,   0,   0,   0,   0,   0,   0,   0,   0,   0,  59, 249, 254,  62,   0,   0,   0,   0,   0,   0,   0,   0, \n",
            "  0,   0,   0,   0,   0,   0,   0,   0,   0,   0,   0,   0,   0,   0,   0,   0, 133, 254, 187,   5,   0,   0,   0,   0,   0,   0,   0,   0, \n",
            "  0,   0,   0,   0,   0,   0,   0,   0,   0,   0,   0,   0,   0,   0,   0,   9, 205, 248,  58,   0,   0,   0,   0,   0,   0,   0,   0,   0, \n",
            "  0,   0,   0,   0,   0,   0,   0,   0,   0,   0,   0,   0,   0,   0,   0, 126, 254, 182,   0,   0,   0,   0,   0,   0,   0,   0,   0,   0, \n",
            "  0,   0,   0,   0,   0,   0,   0,   0,   0,   0,   0,   0,   0,   0,  75, 251, 240,  57,   0,   0,   0,   0,   0,   0,   0,   0,   0,   0, \n",
            "  0,   0,   0,   0,   0,   0,   0,   0,   0,   0,   0,   0,   0,  19, 221, 254, 166,   0,   0,   0,   0,   0,   0,   0,   0,   0,   0,   0, \n",
            "  0,   0,   0,   0,   0,   0,   0,   0,   0,   0,   0,   0,   3, 203, 254, 219,  35,   0,   0,   0,   0,   0,   0,   0,   0,   0,   0,   0, \n",
            "  0,   0,   0,   0,   0,   0,   0,   0,   0,   0,   0,   0,  38, 254, 254,  77,   0,   0,   0,   0,   0,   0,   0,   0,   0,   0,   0,   0, \n",
            "  0,   0,   0,   0,   0,   0,   0,   0,   0,   0,   0,  31, 224, 254, 115,   1,   0,   0,   0,   0,   0,   0,   0,   0,   0,   0,   0,   0, \n",
            "  0,   0,   0,   0,   0,   0,   0,   0,   0,   0,   0, 133, 254, 254,  52,   0,   0,   0,   0,   0,   0,   0,   0,   0,   0,   0,   0,   0, \n",
            "  0,   0,   0,   0,   0,   0,   0,   0,   0,   0,  61, 242, 254, 254,  52,   0,   0,   0,   0,   0,   0,   0,   0,   0,   0,   0,   0,   0, \n",
            "  0,   0,   0,   0,   0,   0,   0,   0,   0,   0, 121, 254, 254, 219,  40,   0,   0,   0,   0,   0,   0,   0,   0,   0,   0,   0,   0,   0, \n",
            "  0,   0,   0,   0,   0,   0,   0,   0,   0,   0, 121, 254, 207,  18,   0,   0,   0,   0,   0,   0,   0,   0,   0,   0,   0,   0,   0,   0, \n",
            "  0,   0,   0,   0,   0,   0,   0,   0,   0,   0,   0,   0,   0,   0,   0,   0,   0,   0,   0,   0,   0,   0,   0,   0,   0,   0,   0,   0, }\n"
          ]
        }
      ]
    },
    {
      "cell_type": "markdown",
      "source": [
        "# Debug"
      ],
      "metadata": {
        "id": "JtAjOcZM9a8Q"
      }
    },
    {
      "cell_type": "code",
      "source": [
        "def conv1_output_hook(module, input, output):\n",
        "    print(\"Conv1 output shape:\", output.shape)\n",
        "    output_np = output.cpu().detach().numpy()\n",
        "\n",
        "    # Extract the desired slice (first channel, 24x24)\n",
        "    data = output_np[0, 0, :24, :24]\n",
        "\n",
        "    # Format the output as a comma-separated list with newlines\n",
        "    formatted_output = \"[\"  # Start with an opening bracket\n",
        "    for row in data:\n",
        "        formatted_output += \"[\" + \", \".join(f\"{x:8.1f}\" for x in row) + \"],\\n\"  # Add newline\n",
        "    formatted_output = formatted_output[:-2] + \"]\"  # Remove last comma and newline, add closing bracket\n",
        "\n",
        "    print(formatted_output)\n",
        "\n",
        "def pool1_output_hook(module, input, output):\n",
        "    print(\"Pool1 output shape:\", output.shape)\n",
        "    output_np = output.cpu().detach().numpy()\n",
        "    print(output_np[0, 0, :12, :12])\n",
        "\n",
        "def conv2_output_hook(module, input, output):\n",
        "    print(\"Conv2 output shape:\", output.shape)\n",
        "    output_np = output.cpu().detach().numpy()\n",
        "    print(\"Some values from Conv2 output:\")\n",
        "    print(output_np[0, 0, :8, :8])\n",
        "\n",
        "def pool2_output_hook(module, input, output):\n",
        "    print(\"Pool2 output shape:\", output.shape)\n",
        "    output_np = output.cpu().detach().numpy()\n",
        "    print(\"Some values from Pool2 output:\")\n",
        "    print(output_np[0, 0, :4, :4])\n",
        "\n",
        "def fc1_output_hook(module, input, output):\n",
        "    print(\"FC1 output shape:\", output.shape)\n",
        "    output_np = output.cpu().detach().numpy()\n",
        "    print(\"Some values from FC1 output:\")\n",
        "    print(output_np[0, :5])  # Print first 5 values\n",
        "\n",
        "def fc2_output_hook(module, input, output):\n",
        "    print(\"FC2 output shape:\", output.shape)\n",
        "    output_np = output.cpu().detach().numpy()\n",
        "    print(\"Some values from FC2 output:\")\n",
        "    print(output_np[0, :5])  # Print first 5 values\n",
        "\n",
        "def fc3_output_hook(module, input, output):\n",
        "    print(\"FC3 output shape:\", output.shape)\n",
        "    output_np = output.cpu().detach().numpy()\n",
        "    print(\"Some values from FC3 output:\")\n",
        "    print(output_np[0, :10])"
      ],
      "metadata": {
        "id": "xiOj7afKo66T"
      },
      "execution_count": 67,
      "outputs": []
    },
    {
      "cell_type": "code",
      "source": [
        "# Register the hooks\n",
        "# handle_conv1 = model.conv1.register_forward_hook(conv1_output_hook)\n",
        "# handle_pool1 = model.pool.register_forward_hook(pool1_output_hook) # For the first pooling layer\n",
        "# handle_conv2 = model.conv2.register_forward_hook(conv2_output_hook)\n",
        "# handle_pool2 = model.pool.register_forward_hook(pool2_output_hook)  # For the second pooling layer\n",
        "# handle_fc1 = model.fc1.register_forward_hook(fc1_output_hook)\n",
        "# handle_fc2 = model.fc2.register_forward_hook(fc2_output_hook)\n",
        "# handle_fc3 = model.fc3.register_forward_hook(fc3_output_hook)\n",
        "\n",
        "image_tensor = torch.from_numpy(image_np).float()\n",
        "image_tensor = image_tensor.unsqueeze(0).unsqueeze(0)\n",
        "\n",
        "with torch.no_grad():\n",
        "    output = model(image_tensor)\n",
        "\n",
        "_, predicted = torch.max(output, 1)\n",
        "predicted_class = predicted.item()\n",
        "\n",
        "print(f\"Predicted class: {predicted_class}\")\n",
        "\n",
        "# Remove the hooks\n",
        "# handle_conv1.remove()\n",
        "# handle_pool1.remove()\n",
        "# handle_conv2.remove()\n",
        "# handle_pool2.remove()\n",
        "# handle_fc1.remove()\n",
        "# handle_fc2.remove()\n",
        "# handle_fc3.remove()"
      ],
      "metadata": {
        "id": "NW6ROzYZd41h",
        "colab": {
          "base_uri": "https://localhost:8080/"
        },
        "outputId": "c94e18e2-5deb-4a7e-8bca-3a56808e9d66"
      },
      "execution_count": 83,
      "outputs": [
        {
          "output_type": "stream",
          "name": "stdout",
          "text": [
            "Predicted class: 5\n"
          ]
        }
      ]
    },
    {
      "cell_type": "code",
      "source": [
        "# Load the saved model weights\n",
        "model = LeNet5()  # Assuming LeNet5 is your model class\n",
        "model.load_state_dict(torch.load(\"lenet5.pth\"))\n",
        "\n",
        "# Access the conv1 weights and print them\n",
        "conv1_weights = model.conv1.weight\n",
        "print(conv1_weights)"
      ],
      "metadata": {
        "colab": {
          "base_uri": "https://localhost:8080/"
        },
        "id": "bWXL5McU4Ba8",
        "outputId": "072800a1-9758-4a0f-fd8f-19c4929758d5"
      },
      "execution_count": 51,
      "outputs": [
        {
          "output_type": "stream",
          "name": "stdout",
          "text": [
            "Parameter containing:\n",
            "tensor([[[[ 0.0709,  0.0656, -0.0729,  0.1918,  0.1979],\n",
            "          [ 0.0976, -0.0216,  0.1881, -0.1551, -0.1054],\n",
            "          [-0.0588, -0.0278,  0.1266,  0.1368, -0.0954],\n",
            "          [-0.1012, -0.0074, -0.2410, -0.0397,  0.1124],\n",
            "          [-0.0379, -0.1170, -0.0707, -0.1614, -0.1224]]],\n",
            "\n",
            "\n",
            "        [[[-0.1226,  0.1203,  0.1094, -0.0907,  0.0717],\n",
            "          [ 0.0227,  0.2011, -0.0008,  0.0446, -0.1852],\n",
            "          [-0.0309, -0.1765,  0.0381, -0.2762, -0.0359],\n",
            "          [-0.2054,  0.0241, -0.0340, -0.2223,  0.0009],\n",
            "          [-0.0550,  0.0118, -0.2431,  0.1547,  0.0328]]],\n",
            "\n",
            "\n",
            "        [[[-0.2414, -0.0729, -0.1094, -0.0361, -0.0839],\n",
            "          [-0.1079, -0.1694, -0.1614,  0.0643,  0.0570],\n",
            "          [ 0.0574, -0.0765,  0.1815,  0.0026, -0.0393],\n",
            "          [ 0.0224,  0.0325, -0.0264,  0.2175, -0.0741],\n",
            "          [-0.1951,  0.1640,  0.1301,  0.0578,  0.1159]]],\n",
            "\n",
            "\n",
            "        [[[ 0.1095,  0.0495, -0.2270,  0.0571,  0.1133],\n",
            "          [ 0.0892,  0.0704, -0.1780, -0.1940, -0.0885],\n",
            "          [ 0.0264,  0.1081,  0.1804, -0.1844, -0.1452],\n",
            "          [-0.0036, -0.1043,  0.0514,  0.0443,  0.0345],\n",
            "          [-0.0661, -0.0485,  0.0954,  0.1180,  0.0056]]],\n",
            "\n",
            "\n",
            "        [[[ 0.2030, -0.0958, -0.0410, -0.1230, -0.0078],\n",
            "          [-0.0292,  0.1251, -0.0828, -0.0659, -0.1892],\n",
            "          [ 0.1109,  0.1907, -0.2448, -0.1526, -0.0933],\n",
            "          [ 0.0972, -0.1349, -0.2243, -0.0666, -0.0200],\n",
            "          [ 0.0230, -0.2447, -0.0691, -0.0892,  0.1668]]],\n",
            "\n",
            "\n",
            "        [[[ 0.0313, -0.0045,  0.0319,  0.0824, -0.1933],\n",
            "          [ 0.1679, -0.0480, -0.1678, -0.0443,  0.0986],\n",
            "          [-0.0063,  0.0008,  0.1527,  0.0107, -0.0140],\n",
            "          [ 0.1230,  0.0188,  0.1056,  0.0855,  0.0789],\n",
            "          [ 0.0730,  0.0433,  0.0340, -0.1757, -0.1773]]]], requires_grad=True)\n"
          ]
        },
        {
          "output_type": "stream",
          "name": "stderr",
          "text": [
            "<ipython-input-51-b282aab48842>:5: FutureWarning: You are using `torch.load` with `weights_only=False` (the current default value), which uses the default pickle module implicitly. It is possible to construct malicious pickle data which will execute arbitrary code during unpickling (See https://github.com/pytorch/pytorch/blob/main/SECURITY.md#untrusted-models for more details). In a future release, the default value for `weights_only` will be flipped to `True`. This limits the functions that could be executed during unpickling. Arbitrary objects will no longer be allowed to be loaded via this mode unless they are explicitly allowlisted by the user via `torch.serialization.add_safe_globals`. We recommend you start setting `weights_only=True` for any use case where you don't have full control of the loaded file. Please open an issue on GitHub for any issues related to this experimental feature.\n",
            "  model.load_state_dict(torch.load(\"lenet5.pth\"))\n"
          ]
        }
      ]
    }
  ]
}